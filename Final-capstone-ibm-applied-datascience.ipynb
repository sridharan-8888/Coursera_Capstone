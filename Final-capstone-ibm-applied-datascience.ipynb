{
 "cells": [
  {
   "cell_type": "markdown",
   "metadata": {},
   "source": [
    "# IBM Cousera Applied Datascience Capstone Project"
   ]
  },
  {
   "cell_type": "markdown",
   "metadata": {},
   "source": [
    "## Overview "
   ]
  },
  {
   "cell_type": "markdown",
   "metadata": {},
   "source": [
    "### Business Problem Statement\n",
    "Our client is a books and stationary seller based in Singapore. They would want expand their buisiness to cities in nearby countries such as Malaysia, Indonesia, Thailand, Philippines and etc. Our client wants us to analyse and recommend top 5 locations for opening bookstores in those cities.  \n",
    "\n",
    "Selection of the right neigborhood such as the ones with large number of schools, universities, shopping malls and etc is important for the bookstore business to be successful. It would also be important to analyse information on those neighborhood about the existing bookstores to understand the competition.\n",
    "\n",
    "Results of the recommendation would need to be presented for the cities Kuala lumpur, Jakarta, Bangkok and Manila with the top 5 recommended locations for the bookstores."
   ]
  },
  {
   "cell_type": "markdown",
   "metadata": {},
   "source": [
    "## Data Understanding and Data Preparation"
   ]
  },
  {
   "cell_type": "markdown",
   "metadata": {},
   "source": [
    "### Data Understanding \n",
    "To help up us in this process we would be using the different data about venues in the locations of intereset.\n",
    "Most important data from Foursquare API that we would depend on is the Venu Categories. For example Fouresquare API returs the Venue categories such as schools, colleges and universities:\n",
    "School\n",
    "    Adult Education Center\n",
    "    Circus School\n",
    "    Cooking School\n",
    "    Driving School\n",
    "    Elementary School\n",
    "    Flight School\n",
    "    High School\n",
    "    Language School\n",
    "    Middle School\n",
    "    Music School\n",
    "    Nursery School\n",
    "    Preschool\n",
    "    Private School\n",
    "    Religious School\n",
    "    Swim School\n",
    "College & University\n",
    "    Community College\n",
    "    Fraternity House\n",
    "    General College & University\n",
    "    Law School\n",
    "    Medical School\n",
    "    Sorority House\n",
    "    Student Center\n",
    "    Trade School\n",
    "    University\n",
    "\n",
    "In addition to the basice venue details Foursquare API provide, we could potentiallu augument it with data FourSquare Places Location Data Can Offer. For example we would be using place attributes like venue name, address, ratings, and reviews. \n",
    "With problem to approach clearly defined and with these data that can be retrieved using Foursquare API, data requirements and  correct sources of data for this project are clearly understood.  The next steps of data science methodology Data Understanding, Data Preparation, Modeling , Evaluation and Potential Deployment. \n",
    "\n",
    "Opitionally an application can be buit to help the business to contiue to use the data from Foursquare API such as user ratings, reviews to continues improve the kinds of books and other items that can be stocked.\n",
    "\n"
   ]
  },
  {
   "cell_type": "code",
   "execution_count": null,
   "metadata": {},
   "outputs": [],
   "source": []
  }
 ],
 "metadata": {
  "kernelspec": {
   "display_name": "Python 3",
   "language": "python",
   "name": "python3"
  },
  "language_info": {
   "codemirror_mode": {
    "name": "ipython",
    "version": 3
   },
   "file_extension": ".py",
   "mimetype": "text/x-python",
   "name": "python",
   "nbconvert_exporter": "python",
   "pygments_lexer": "ipython3",
   "version": "3.7.6"
  }
 },
 "nbformat": 4,
 "nbformat_minor": 4
}
